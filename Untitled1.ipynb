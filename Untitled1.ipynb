{
  "nbformat": 4,
  "nbformat_minor": 0,
  "metadata": {
    "colab": {
      "name": "Untitled1.ipynb",
      "provenance": [],
      "authorship_tag": "ABX9TyPhTYPYUzGmbuBjCZRYroLH",
      "include_colab_link": true
    },
    "kernelspec": {
      "name": "python3",
      "display_name": "Python 3"
    },
    "language_info": {
      "name": "python"
    }
  },
  "cells": [
    {
      "cell_type": "markdown",
      "metadata": {
        "id": "view-in-github",
        "colab_type": "text"
      },
      "source": [
        "<a href=\"https://colab.research.google.com/github/YoojongChoi/Math/blob/main/Untitled1.ipynb\" target=\"_parent\"><img src=\"https://colab.research.google.com/assets/colab-badge.svg\" alt=\"Open In Colab\"/></a>"
      ]
    },
    {
      "cell_type": "code",
      "metadata": {
        "id": "AuG1JYGr9yBG"
      },
      "source": [
        "import numpy as np"
      ],
      "execution_count": 2,
      "outputs": []
    },
    {
      "cell_type": "code",
      "metadata": {
        "colab": {
          "base_uri": "https://localhost:8080/"
        },
        "id": "vSvl3GyD-9A4",
        "outputId": "93fbe832-b27c-473f-c4df-e2e8e78eb9f7"
      },
      "source": [
        "A = np.array(  [[0,1,-2.3,0.1] , [1.3,4,-0.1,0],[4.1,-1.0,0,1.7]])\n",
        "print(A)\n",
        "print(A.shape)"
      ],
      "execution_count": 6,
      "outputs": [
        {
          "output_type": "stream",
          "name": "stdout",
          "text": [
            "[[ 0.   1.  -2.3  0.1]\n",
            " [ 1.3  4.  -0.1  0. ]\n",
            " [ 4.1 -1.   0.   1.7]]\n",
            "(3, 4)\n"
          ]
        }
      ]
    },
    {
      "cell_type": "code",
      "metadata": {
        "colab": {
          "base_uri": "https://localhost:8080/"
        },
        "id": "mjJUm6RP_AVs",
        "outputId": "67c0329d-cf82-4e45-bac7-1f8217e68888"
      },
      "source": [
        "m,n = A.shape\n",
        "print('m:', m)\n",
        "print('n:', n)"
      ],
      "execution_count": 7,
      "outputs": [
        {
          "output_type": "stream",
          "name": "stdout",
          "text": [
            "m: 3\n",
            "n: 4\n"
          ]
        }
      ]
    },
    {
      "cell_type": "code",
      "metadata": {
        "colab": {
          "base_uri": "https://localhost:8080/"
        },
        "id": "lHv_g_EA-9Ne",
        "outputId": "0617a9d2-99e3-446c-bb7b-c8347dcd50ca"
      },
      "source": [
        "tall = lambda X: X.shape[0] > X.shape[1]\n",
        "tall(A)"
      ],
      "execution_count": 12,
      "outputs": [
        {
          "output_type": "execute_result",
          "data": {
            "text/plain": [
              "False"
            ]
          },
          "metadata": {},
          "execution_count": 12
        }
      ]
    },
    {
      "cell_type": "code",
      "metadata": {
        "colab": {
          "base_uri": "https://localhost:8080/"
        },
        "id": "GB5LuQa2ANrz",
        "outputId": "d3b3e72f-7635-4d6c-beb4-97929464fea9"
      },
      "source": [
        "wide = lambda X: X.shape[0] < X.shape[1]\n",
        "wide(A)"
      ],
      "execution_count": 11,
      "outputs": [
        {
          "output_type": "execute_result",
          "data": {
            "text/plain": [
              "True"
            ]
          },
          "metadata": {},
          "execution_count": 11
        }
      ]
    },
    {
      "cell_type": "code",
      "metadata": {
        "colab": {
          "base_uri": "https://localhost:8080/"
        },
        "id": "KB2BCGp6AjME",
        "outputId": "dbd045de-4640-4082-cfe0-669f61225dcd"
      },
      "source": [
        "A[0,2]"
      ],
      "execution_count": 13,
      "outputs": [
        {
          "output_type": "execute_result",
          "data": {
            "text/plain": [
              "-2.3"
            ]
          },
          "metadata": {},
          "execution_count": 13
        }
      ]
    },
    {
      "cell_type": "code",
      "metadata": {
        "colab": {
          "base_uri": "https://localhost:8080/"
        },
        "id": "x-sEOAY7AjYw",
        "outputId": "41733954-7aa6-41d6-8c0b-ea95a8c751d3"
      },
      "source": [
        "A[0,2] = 7.5\n",
        "A"
      ],
      "execution_count": 15,
      "outputs": [
        {
          "output_type": "execute_result",
          "data": {
            "text/plain": [
              "array([[ 0. ,  1. ,  7.5,  0.1],\n",
              "       [ 1.3,  4. , -0.1,  0. ],\n",
              "       [ 4.1, -1. ,  0. ,  1.7]])"
            ]
          },
          "metadata": {},
          "execution_count": 15
        }
      ]
    },
    {
      "cell_type": "code",
      "metadata": {
        "colab": {
          "base_uri": "https://localhost:8080/"
        },
        "id": "FlDafmFFAjil",
        "outputId": "c5cc5502-b6ee-4add-de8d-bf591aa226b4"
      },
      "source": [
        " A = np.array([[0,1,-2.3,0.1], [1.3, 4, -0.1, 0], [4.1, -1.0, 0,1.7]])\n",
        "B = A.copy()\n",
        "print(A==B)\n",
        "print(np.sum(A==B))"
      ],
      "execution_count": 18,
      "outputs": [
        {
          "output_type": "stream",
          "name": "stdout",
          "text": [
            "[[ True  True  True  True]\n",
            " [ True  True  True  True]\n",
            " [ True  True  True  True]]\n",
            "12\n"
          ]
        }
      ]
    },
    {
      "cell_type": "code",
      "metadata": {
        "colab": {
          "base_uri": "https://localhost:8080/"
        },
        "id": "8pGxY8HVBnRE",
        "outputId": "dbc3475e-a1c7-4c23-8141-82f5a673bf30"
      },
      "source": [
        "B[0,3] = 100\n",
        "print(A==B)\n",
        "print(np.sum(A==B))"
      ],
      "execution_count": 19,
      "outputs": [
        {
          "output_type": "stream",
          "name": "stdout",
          "text": [
            "[[ True  True  True False]\n",
            " [ True  True  True  True]\n",
            " [ True  True  True  True]]\n",
            "11\n"
          ]
        }
      ]
    },
    {
      "cell_type": "code",
      "metadata": {
        "colab": {
          "base_uri": "https://localhost:8080/"
        },
        "id": "Xm32yZoEBnYl",
        "outputId": "49cc6499-61ac-4403-90b5-a1c66f8222f1"
      },
      "source": [
        "A = np.array([[-1, 0, 1, 0],[2, -3, 0, 1],[0, 4, -2, 1]])\n",
        "A[0:2, 2:4]"
      ],
      "execution_count": 21,
      "outputs": [
        {
          "output_type": "execute_result",
          "data": {
            "text/plain": [
              "array([[1, 0],\n",
              "       [0, 1]])"
            ]
          },
          "metadata": {},
          "execution_count": 21
        }
      ]
    },
    {
      "cell_type": "code",
      "metadata": {
        "colab": {
          "base_uri": "https://localhost:8080/"
        },
        "id": "Z5PoYk6VBnfK",
        "outputId": "a7382034-39e8-4a5f-b963-a2ca0932e421"
      },
      "source": [
        "A[0:3,2:3]"
      ],
      "execution_count": 22,
      "outputs": [
        {
          "output_type": "execute_result",
          "data": {
            "text/plain": [
              "array([[ 1],\n",
              "       [ 0],\n",
              "       [-2]])"
            ]
          },
          "metadata": {},
          "execution_count": 22
        }
      ]
    },
    {
      "cell_type": "code",
      "metadata": {
        "colab": {
          "base_uri": "https://localhost:8080/"
        },
        "id": "DHCjBmAmBnnk",
        "outputId": "2a119bbd-964d-4632-c2b0-2c7d5fd7273b"
      },
      "source": [
        "A[:,2]"
      ],
      "execution_count": 23,
      "outputs": [
        {
          "output_type": "execute_result",
          "data": {
            "text/plain": [
              "array([ 1,  0, -2])"
            ]
          },
          "metadata": {},
          "execution_count": 23
        }
      ]
    },
    {
      "cell_type": "code",
      "metadata": {
        "colab": {
          "base_uri": "https://localhost:8080/"
        },
        "id": "WbuPGaz4EmEs",
        "outputId": "8b0ab91c-4dfb-451b-df47-792c0a0b5f6e"
      },
      "source": [
        "A[1,:]"
      ],
      "execution_count": 24,
      "outputs": [
        {
          "output_type": "execute_result",
          "data": {
            "text/plain": [
              "array([ 2, -3,  0,  1])"
            ]
          },
          "metadata": {},
          "execution_count": 24
        }
      ]
    },
    {
      "cell_type": "code",
      "metadata": {
        "colab": {
          "base_uri": "https://localhost:8080/"
        },
        "id": "fr2CH28AEotI",
        "outputId": "386167cb-3b68-483d-de26-aff9ede86a5b"
      },
      "source": [
        "A[1,]"
      ],
      "execution_count": 25,
      "outputs": [
        {
          "output_type": "execute_result",
          "data": {
            "text/plain": [
              "array([ 2, -3,  0,  1])"
            ]
          },
          "metadata": {},
          "execution_count": 25
        }
      ]
    },
    {
      "cell_type": "code",
      "metadata": {
        "colab": {
          "base_uri": "https://localhost:8080/"
        },
        "id": "eiXbWB7pEov-",
        "outputId": "f97aa587-c9e7-461f-a897-d823ae7c2992"
      },
      "source": [
        "A.reshape((6,2))"
      ],
      "execution_count": 26,
      "outputs": [
        {
          "output_type": "execute_result",
          "data": {
            "text/plain": [
              "array([[-1,  0],\n",
              "       [ 1,  0],\n",
              "       [ 2, -3],\n",
              "       [ 0,  1],\n",
              "       [ 0,  4],\n",
              "       [-2,  1]])"
            ]
          },
          "metadata": {},
          "execution_count": 26
        }
      ]
    },
    {
      "cell_type": "code",
      "metadata": {
        "colab": {
          "base_uri": "https://localhost:8080/"
        },
        "id": "2S-0icUmEozU",
        "outputId": "dcb86072-6918-4a12-e770-ed9954596f6b"
      },
      "source": [
        "A.reshape((4,3))"
      ],
      "execution_count": 27,
      "outputs": [
        {
          "output_type": "execute_result",
          "data": {
            "text/plain": [
              "array([[-1,  0,  1],\n",
              "       [ 0,  2, -3],\n",
              "       [ 0,  1,  0],\n",
              "       [ 4, -2,  1]])"
            ]
          },
          "metadata": {},
          "execution_count": 27
        }
      ]
    },
    {
      "cell_type": "code",
      "metadata": {
        "colab": {
          "base_uri": "https://localhost:8080/"
        },
        "id": "1JOstRLhEo07",
        "outputId": "3f0f877a-282e-4212-be31-66b1faaaf0af"
      },
      "source": [
        "A.reshape((1,12))"
      ],
      "execution_count": 28,
      "outputs": [
        {
          "output_type": "execute_result",
          "data": {
            "text/plain": [
              "array([[-1,  0,  1,  0,  2, -3,  0,  1,  0,  4, -2,  1]])"
            ]
          },
          "metadata": {},
          "execution_count": 28
        }
      ]
    },
    {
      "cell_type": "code",
      "metadata": {
        "colab": {
          "base_uri": "https://localhost:8080/"
        },
        "id": "PGAx19GSEo4K",
        "outputId": "0c6e4de4-287f-43ac-8a65-c946c406f5ce"
      },
      "source": [
        "B = np.array([0,2,3]) \n",
        "C = np.array([-1])\n",
        "D = np.array([[2,2,1],[1,3,5]]) \n",
        "E = np.array([[4],[4]])\n",
        "\n",
        "A = np.block([[B,C],[D,E]])\n",
        "A"
      ],
      "execution_count": 30,
      "outputs": [
        {
          "output_type": "execute_result",
          "data": {
            "text/plain": [
              "array([[ 0,  2,  3, -1],\n",
              "       [ 2,  2,  1,  4],\n",
              "       [ 1,  3,  5,  4]])"
            ]
          },
          "metadata": {},
          "execution_count": 30
        }
      ]
    },
    {
      "cell_type": "code",
      "metadata": {
        "colab": {
          "base_uri": "https://localhost:8080/"
        },
        "id": "bW6YHjPKEo67",
        "outputId": "a255fa07-adb9-4b91-d11f-d83e0aba359c"
      },
      "source": [
        "a = [1,2]\n",
        "b = [4,5]\n",
        "c = [7,8]\n",
        "A = np.vstack([a,b,c])\n",
        "B = np.hstack([a,b,c])\n",
        "print('matrix A :',A)\n",
        "print('dimensions of A :', A.shape)\n",
        "print('matrix B :',B)\n",
        "print('dimensions of B :', B.shape)"
      ],
      "execution_count": 31,
      "outputs": [
        {
          "output_type": "stream",
          "name": "stdout",
          "text": [
            "matrix A : [[1 2]\n",
            " [4 5]\n",
            " [7 8]]\n",
            "dimensions of A : (3, 2)\n",
            "matrix B : [1 2 4 5 7 8]\n",
            "dimensions of B : (6,)\n"
          ]
        }
      ]
    },
    {
      "cell_type": "code",
      "metadata": {
        "colab": {
          "base_uri": "https://localhost:8080/"
        },
        "id": "JK9bdeInHWBE",
        "outputId": "06915452-bc5e-402e-991e-f79a83772acb"
      },
      "source": [
        "a = [[1],[2]]\n",
        "b = [[4],[5]]\n",
        "c = [[7],[8]]\n",
        "A = np.vstack([a,b,c])\n",
        "B = np.hstack([a,b,c])\n",
        "print('matrix A :',A)\n",
        "print('dimensions of A :', A.shape)\n",
        "print('matrix B :',B)\n",
        "print('dimensions of B :', B.shape)"
      ],
      "execution_count": 32,
      "outputs": [
        {
          "output_type": "stream",
          "name": "stdout",
          "text": [
            "matrix A : [[1]\n",
            " [2]\n",
            " [4]\n",
            " [5]\n",
            " [7]\n",
            " [8]]\n",
            "dimensions of A : (6, 1)\n",
            "matrix B : [[1 4 7]\n",
            " [2 5 8]]\n",
            "dimensions of B : (2, 3)\n"
          ]
        }
      ]
    },
    {
      "cell_type": "code",
      "metadata": {
        "colab": {
          "base_uri": "https://localhost:8080/"
        },
        "id": "Kvrm2gHeHWPa",
        "outputId": "efbaf27e-7aa9-4f4b-e2b7-8133a4d4dd4c"
      },
      "source": [
        "np.zeros((4,2))"
      ],
      "execution_count": 33,
      "outputs": [
        {
          "output_type": "execute_result",
          "data": {
            "text/plain": [
              "array([[0., 0.],\n",
              "       [0., 0.],\n",
              "       [0., 0.],\n",
              "       [0., 0.]])"
            ]
          },
          "metadata": {},
          "execution_count": 33
        }
      ]
    },
    {
      "cell_type": "code",
      "metadata": {
        "colab": {
          "base_uri": "https://localhost:8080/"
        },
        "id": "6oallJIOHWTl",
        "outputId": "ecd83d96-c418-4a97-d3b4-daccedba9983"
      },
      "source": [
        "np.ones((3,4))"
      ],
      "execution_count": 34,
      "outputs": [
        {
          "output_type": "execute_result",
          "data": {
            "text/plain": [
              "array([[1., 1., 1., 1.],\n",
              "       [1., 1., 1., 1.],\n",
              "       [1., 1., 1., 1.]])"
            ]
          },
          "metadata": {},
          "execution_count": 34
        }
      ]
    },
    {
      "cell_type": "code",
      "metadata": {
        "colab": {
          "base_uri": "https://localhost:8080/"
        },
        "id": "VnukXfnRHWYQ",
        "outputId": "967cfa35-c367-4139-f54c-6a3c8d748f95"
      },
      "source": [
        "np.identity(4)"
      ],
      "execution_count": 35,
      "outputs": [
        {
          "output_type": "execute_result",
          "data": {
            "text/plain": [
              "array([[1., 0., 0., 0.],\n",
              "       [0., 1., 0., 0.],\n",
              "       [0., 0., 1., 0.],\n",
              "       [0., 0., 0., 1.]])"
            ]
          },
          "metadata": {},
          "execution_count": 35
        }
      ]
    },
    {
      "cell_type": "code",
      "metadata": {
        "colab": {
          "base_uri": "https://localhost:8080/"
        },
        "id": "AijYmSAbEo9i",
        "outputId": "df232609-551e-4cbf-d3f6-bcf18b2f70ea"
      },
      "source": [
        " x = np.array([[0, 1, 2],[3, 4, 5], [6, 7, 8]])\n",
        "v = np.diag(x)\n",
        "v"
      ],
      "execution_count": 37,
      "outputs": [
        {
          "output_type": "execute_result",
          "data": {
            "text/plain": [
              "array([0, 4, 8])"
            ]
          },
          "metadata": {},
          "execution_count": 37
        }
      ]
    },
    {
      "cell_type": "code",
      "metadata": {
        "colab": {
          "base_uri": "https://localhost:8080/"
        },
        "id": "sScrtqecJfs_",
        "outputId": "69adc9b1-2039-4b7a-ff80-25ee83a4afdb"
      },
      "source": [
        " y = np.diag(np.diag(x))\n",
        " y"
      ],
      "execution_count": 38,
      "outputs": [
        {
          "output_type": "execute_result",
          "data": {
            "text/plain": [
              "array([[0, 0, 0],\n",
              "       [0, 4, 0],\n",
              "       [0, 0, 8]])"
            ]
          },
          "metadata": {},
          "execution_count": 38
        }
      ]
    },
    {
      "cell_type": "code",
      "metadata": {
        "colab": {
          "base_uri": "https://localhost:8080/"
        },
        "id": "plA-adWgJuXY",
        "outputId": "a79a1767-b98e-441f-cc01-7b26c578cbb2"
      },
      "source": [
        "np.random.random((3,4))"
      ],
      "execution_count": 39,
      "outputs": [
        {
          "output_type": "execute_result",
          "data": {
            "text/plain": [
              "array([[0.52443462, 0.45509048, 0.58399696, 0.50820774],\n",
              "       [0.37003453, 0.5937652 , 0.5174347 , 0.71552709],\n",
              "       [0.62972494, 0.66025077, 0.02975768, 0.9283729 ]])"
            ]
          },
          "metadata": {},
          "execution_count": 39
        }
      ]
    },
    {
      "cell_type": "code",
      "metadata": {
        "colab": {
          "base_uri": "https://localhost:8080/"
        },
        "id": "jJVP7Ur3J0jE",
        "outputId": "3a1d827f-f84b-4c5d-92c8-c8ce2eb965f2"
      },
      "source": [
        "np.random.randn(3,4)"
      ],
      "execution_count": 40,
      "outputs": [
        {
          "output_type": "execute_result",
          "data": {
            "text/plain": [
              "array([[-1.19968058, -0.01186987,  1.23737118, -2.13490971],\n",
              "       [ 0.60637758,  0.42867751, -1.74607375,  0.13050378],\n",
              "       [-0.17758163,  0.61881674,  0.91084115,  2.19331143]])"
            ]
          },
          "metadata": {},
          "execution_count": 40
        }
      ]
    },
    {
      "cell_type": "code",
      "metadata": {
        "colab": {
          "base_uri": "https://localhost:8080/"
        },
        "id": "f1ku0YDJMKbz",
        "outputId": "3efdb829-71f6-4423-b968-b294f1472319"
      },
      "source": [
        "H = np.array([[0,1,-2,1], [2,-1,3,0]])\n",
        "H.T"
      ],
      "execution_count": 41,
      "outputs": [
        {
          "output_type": "execute_result",
          "data": {
            "text/plain": [
              "array([[ 0,  2],\n",
              "       [ 1, -1],\n",
              "       [-2,  3],\n",
              "       [ 1,  0]])"
            ]
          },
          "metadata": {},
          "execution_count": 41
        }
      ]
    },
    {
      "cell_type": "code",
      "metadata": {
        "colab": {
          "base_uri": "https://localhost:8080/"
        },
        "id": "xWG7wnliMKyw",
        "outputId": "89dee7a8-ac9b-4bec-e7fe-047b54bd4f55"
      },
      "source": [
        "np.transpose(H)"
      ],
      "execution_count": 42,
      "outputs": [
        {
          "output_type": "execute_result",
          "data": {
            "text/plain": [
              "array([[ 0,  2],\n",
              "       [ 1, -1],\n",
              "       [-2,  3],\n",
              "       [ 1,  0]])"
            ]
          },
          "metadata": {},
          "execution_count": 42
        }
      ]
    },
    {
      "cell_type": "code",
      "metadata": {
        "colab": {
          "base_uri": "https://localhost:8080/"
        },
        "id": "CxMwFmdQMVCe",
        "outputId": "d28cc66d-0d00-4b74-fe52-b894a4652b5f"
      },
      "source": [
        "U = np.array([[0,4], [7,0], [3,1]])\n",
        "V = np.array([[1,2], [2,3], [0,4]])\n",
        "U + V"
      ],
      "execution_count": 43,
      "outputs": [
        {
          "output_type": "execute_result",
          "data": {
            "text/plain": [
              "array([[1, 6],\n",
              "       [9, 3],\n",
              "       [3, 5]])"
            ]
          },
          "metadata": {},
          "execution_count": 43
        }
      ]
    },
    {
      "cell_type": "code",
      "metadata": {
        "colab": {
          "base_uri": "https://localhost:8080/"
        },
        "id": "oEEHQZeiMYey",
        "outputId": "b73dc923-f867-41ed-ad35-7616fd66de50"
      },
      "source": [
        "2.2*U"
      ],
      "execution_count": 44,
      "outputs": [
        {
          "output_type": "execute_result",
          "data": {
            "text/plain": [
              "array([[ 0. ,  8.8],\n",
              "       [15.4,  0. ],\n",
              "       [ 6.6,  2.2]])"
            ]
          },
          "metadata": {},
          "execution_count": 44
        }
      ]
    },
    {
      "cell_type": "code",
      "metadata": {
        "colab": {
          "base_uri": "https://localhost:8080/"
        },
        "id": "rmyexVSUMjNs",
        "outputId": "16ac8a3f-f3e3-437f-bd8f-29f3004f9595"
      },
      "source": [
        "A = np.array([[2,3,-1], [0,-1,4]])\n",
        "np.linalg.norm(A)"
      ],
      "execution_count": 46,
      "outputs": [
        {
          "output_type": "execute_result",
          "data": {
            "text/plain": [
              "5.5677643628300215"
            ]
          },
          "metadata": {},
          "execution_count": 46
        }
      ]
    },
    {
      "cell_type": "code",
      "metadata": {
        "colab": {
          "base_uri": "https://localhost:8080/"
        },
        "id": "xfZodHmKMjU5",
        "outputId": "0485b7bb-e0be-4abb-b468-f7d40f3776b3"
      },
      "source": [
        "A = np.array([[0,2,-1],[-2,1,1]])\n",
        "x = np.array([2,1,-1])\n",
        "A @ x"
      ],
      "execution_count": 48,
      "outputs": [
        {
          "output_type": "execute_result",
          "data": {
            "text/plain": [
              "array([ 3, -4])"
            ]
          },
          "metadata": {},
          "execution_count": 48
        }
      ]
    },
    {
      "cell_type": "code",
      "metadata": {
        "colab": {
          "base_uri": "https://localhost:8080/"
        },
        "id": "k8ddNm31NliT",
        "outputId": "5abf63d2-ebac-449f-97b9-054e0039c44e"
      },
      "source": [
        "Rot = lambda theta: [[np.cos(theta), -np.sin(theta)], [np.sin(theta), np.cos(theta)]]\n",
        "R = Rot(np.pi/3)\n",
        "R"
      ],
      "execution_count": 49,
      "outputs": [
        {
          "output_type": "execute_result",
          "data": {
            "text/plain": [
              "[[0.5000000000000001, -0.8660254037844386],\n",
              " [0.8660254037844386, 0.5000000000000001]]"
            ]
          },
          "metadata": {},
          "execution_count": 49
        }
      ]
    },
    {
      "cell_type": "code",
      "metadata": {
        "colab": {
          "base_uri": "https://localhost:8080/",
          "height": 483
        },
        "id": "U3bwWL-mN6cj",
        "outputId": "9c76b3cc-cca5-4c5c-9aa9-4445e3d02c31"
      },
      "source": [
        "points = np.array([[1,0],[1.5,0],[2,0],[1,0.25],[1.5,0.25],[1,0.5]])\n",
        "rpoints = np.array([R @ p for p in points])\n",
        "\n",
        "print(points)\n",
        "print(rpoints)\n",
        "\n",
        "import matplotlib.pyplot as plt\n",
        "plt.ion()\n",
        "plt.scatter([c[0] for c in points], [c[1] for c in points])\n",
        "plt.scatter([c[0] for c in rpoints],[c[1] for c in rpoints])\n",
        "plt.show()"
      ],
      "execution_count": 52,
      "outputs": [
        {
          "output_type": "stream",
          "name": "stdout",
          "text": [
            "[[1.   0.  ]\n",
            " [1.5  0.  ]\n",
            " [2.   0.  ]\n",
            " [1.   0.25]\n",
            " [1.5  0.25]\n",
            " [1.   0.5 ]]\n",
            "[[0.5        0.8660254 ]\n",
            " [0.75       1.29903811]\n",
            " [1.         1.73205081]\n",
            " [0.28349365 0.9910254 ]\n",
            " [0.53349365 1.42403811]\n",
            " [0.0669873  1.1160254 ]]\n"
          ]
        },
        {
          "output_type": "display_data",
          "data": {
            "image/png": "[encoded data removed]",
            "text/plain": [
              "<Figure size 432x288 with 1 Axes>"
            ]
          },
          "metadata": {
            "needs_background": "light"
          }
        }
      ]
    }
  ]
}